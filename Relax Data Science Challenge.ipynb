{
 "cells": [
  {
   "cell_type": "markdown",
   "metadata": {},
   "source": [
    "# Relax Data Science Challenge\n",
    "## Springboard\n",
    "### Federico Di Martino"
   ]
  },
  {
   "cell_type": "code",
   "execution_count": 1,
   "metadata": {},
   "outputs": [
    {
     "name": "stdout",
     "output_type": "stream",
     "text": [
      "Feature: 0, Score: 0.00000\n",
      "Feature: 1, Score: 0.00000\n",
      "Feature: 2, Score: -0.00849\n",
      "Feature: 3, Score: -0.00303\n"
     ]
    }
   ],
   "source": [
    "## import packages\n",
    "import pandas as pd\n",
    "import numpy as np\n",
    "import random\n",
    "random.seed( 123456789 )\n",
    "from sklearn.model_selection import train_test_split\n",
    "from sklearn.linear_model import LinearRegression\n",
    "\n",
    "\n",
    "## Wrangling\n",
    "# import the data and show head\n",
    "engagement = pd.read_csv('takehome_user_engagement.csv', encoding='latin-1')\n",
    "engagement.head()\n",
    "\n",
    "users = pd.read_csv('takehome_users.csv', encoding='latin-1')\n",
    "users.head()\n",
    "\n",
    "## drop unnecessary columns and NAs\n",
    "users = users[['object_id','last_session_creation_time','opted_in_to_mailing_list',    'enabled_for_marketing_drip']]\n",
    "users = users.dropna()\n",
    "engagement = engagement.dropna()\n",
    "\n",
    "# conver engagment time_stamp into datetime\n",
    "engagement['time_stamp']=pd.to_datetime(engagement['time_stamp'])\n",
    "\n",
    "#find which users were adopted\n",
    "# loop a 7 day rolling count of user engagement for each users\n",
    "adopted=[]\n",
    "for u in users.object_id:   \n",
    "    count = engagement[engagement['user_id']==u]\n",
    "    count = count.set_index('time_stamp')\n",
    "    count = count.sort_index()\n",
    "    count = count.rolling(window='7d').visited.sum().max()\n",
    "    if count >= 3:\n",
    "        adopted.append(1)\n",
    "    else:\n",
    "        adopted.append(0)\n",
    "\n",
    "users['adopted'] = adopted\n",
    "\n",
    "\n",
    "## Determining key features using linear regression\n",
    "#set target\n",
    "X = users.loc[:, users.columns != 'adopted']\n",
    "y = users.iloc[:,4]\n",
    "# split into train and test set\n",
    "X_train, X_test, y_train, y_test = train_test_split(X, y, test_size=0.30, random_state = 123456789)\n",
    "\n",
    "lr = LinearRegression()\n",
    "lr.fit(X_train, y_train)\n",
    "lr_predict = lr.predict(X_test)\n",
    "\n",
    "# get importance\n",
    "importance = lr.coef_\n",
    "# summarize feature importance\n",
    "for i,v in enumerate(importance):\n",
    "\tprint('Feature: %0d, Score: %.5f' % (i,v))"
   ]
  },
  {
   "cell_type": "markdown",
   "metadata": {},
   "source": [
    "The factors which predict future user adoption, 2 and 3 in the code, are opted_in_to_mailing_list and enabled_for_marketing_drip.\n",
    "\n",
    "It is clear that marketing is the decisive factor driving user adoption."
   ]
  },
  {
   "cell_type": "code",
   "execution_count": null,
   "metadata": {},
   "outputs": [],
   "source": []
  }
 ],
 "metadata": {
  "kernelspec": {
   "display_name": "Python 3",
   "language": "python",
   "name": "python3"
  },
  "language_info": {
   "codemirror_mode": {
    "name": "ipython",
    "version": 3
   },
   "file_extension": ".py",
   "mimetype": "text/x-python",
   "name": "python",
   "nbconvert_exporter": "python",
   "pygments_lexer": "ipython3",
   "version": "3.7.3"
  }
 },
 "nbformat": 4,
 "nbformat_minor": 2
}
