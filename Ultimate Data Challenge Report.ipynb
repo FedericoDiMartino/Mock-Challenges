{
 "cells": [
  {
   "cell_type": "markdown",
   "metadata": {},
   "source": [
    "# Ultimate Data Science Challenge\n",
    "## Springboard\n",
    "### Federico Di Martino"
   ]
  },
  {
   "cell_type": "code",
   "execution_count": 1,
   "metadata": {},
   "outputs": [],
   "source": [
    "## Setup\n",
    "import json\n",
    "import numpy as np\n",
    "import pandas as pd\n",
    "import matplotlib.pyplot as plt\n",
    "import random\n",
    "random.seed(123456789)\n",
    "from datetime import datetime, timedelta\n",
    "\n",
    "from sklearn.model_selection import train_test_split\n",
    "from sklearn.linear_model import LogisticRegression\n",
    "from sklearn.model_selection import GridSearchCV\n",
    "from sklearn.ensemble import RandomForestClassifier\n",
    "from sklearn.model_selection import cross_val_score\n",
    "from sklearn.model_selection import KFold\n",
    "from sklearn.neighbors import KNeighborsClassifier\n",
    "from sklearn.tree import DecisionTreeClassifier\n",
    "from sklearn.svm import SVC\n",
    "from sklearn.ensemble import BaggingClassifier\n",
    "from sklearn.model_selection import cross_validate\n",
    "from sklearn.metrics import precision_score\n",
    "from sklearn.metrics import recall_score\n",
    "from sklearn.metrics import confusion_matrix\n",
    "from sklearn.metrics import classification_report\n",
    "from sklearn.metrics import accuracy_score\n",
    "from sklearn.metrics import f1_score\n",
    "import time"
   ]
  },
  {
   "cell_type": "markdown",
   "metadata": {},
   "source": [
    "## Part 1 ‑ Exploratory data analysis"
   ]
  },
  {
   "cell_type": "code",
   "execution_count": 4,
   "metadata": {},
   "outputs": [
    {
     "data": {
      "image/png": "[encoded data removed]",
      "text/plain": [
       "<Figure size 432x288 with 1 Axes>"
      ]
     },
     "metadata": {
      "needs_background": "light"
     },
     "output_type": "display_data"
    }
   ],
   "source": [
    "## Part 1\n",
    "## Load in data\n",
    "logins = pd.read_json('logins.json')\n",
    "\n",
    "\n",
    "## Aggregate log in times\n",
    "logins['login_time'] = pd.to_datetime(logins['login_time'])\n",
    "logins = logins.set_index('login_time')\n",
    "logins_15 = logins.resample('15Min').size()\n",
    "\n",
    "\n",
    "## Plot\n",
    "plt.title('Login Distribution')\n",
    "plt.bar(logins_15.index,logins_15.values,width=0.1,edgecolor='None', color = 'green')\n",
    "plt.show()\n"
   ]
  },
  {
   "cell_type": "markdown",
   "metadata": {},
   "source": [
    "Here we can see that logins cycle daily with peaks and troughs.\n",
    "\n",
    "\n",
    "## Part 2 - Experiment and metrics design"
   ]
  },
  {
   "cell_type": "markdown",
   "metadata": {},
   "source": [
    "2.1\n",
    "The key measure of success for this experiment would be the average ratio per\n",
    "driver of Metropolis rides : Gotham rides. The objective is to encourage driver partners to be available in both cities so if succesful the ratio would be closer to 1:1 than before.\n",
    "In the code this can be expressed by having a feature counting each gotham ride as a 1 and each metropolis ride as 0. With the target being 0.5.\n",
    "\n",
    "\n",
    "2.2\n",
    "a. Randomly select about half of the drivers to be in this experiment and keep the other half working as before as a control group. Run the toll reiumburse experiment for a long enough length of time to reduce random fluctuation in results.\n",
    "b. T-test.\n",
    "c. If the ratio feature for the experimental group is significantly closer to 0.5 than that of the control group, then the experiment is a success. It would be recommended to look at how other factors that experiment is not designed for change as well, to avoid unfortunate side effects. For example check that revenue and driver retention have not decreased for the experimental group."
   ]
  },
  {
   "cell_type": "markdown",
   "metadata": {},
   "source": [
    "## Part 3 - Predictive Modelling"
   ]
  },
  {
   "cell_type": "code",
   "execution_count": 5,
   "metadata": {},
   "outputs": [
    {
     "name": "stdout",
     "output_type": "stream",
     "text": [
      "There are 0.41102666184099407 % active users.\n"
     ]
    },
    {
     "name": "stderr",
     "output_type": "stream",
     "text": [
      "C:\\Users\\feder\\AppData\\Local\\Continuum\\anaconda3\\lib\\site-packages\\sklearn\\model_selection\\_split.py:296: FutureWarning: Setting a random_state has no effect since shuffle is False. This will raise an error in 0.24. You should leave random_state to its default (None), or set shuffle=True.\n",
      "  FutureWarning\n"
     ]
    },
    {
     "name": "stdout",
     "output_type": "stream",
     "text": [
      "KNN Accuracy: Mean 0.734136 StD (0.005530) Time: 4.831381\n"
     ]
    },
    {
     "name": "stderr",
     "output_type": "stream",
     "text": [
      "C:\\Users\\feder\\AppData\\Local\\Continuum\\anaconda3\\lib\\site-packages\\sklearn\\model_selection\\_split.py:296: FutureWarning: Setting a random_state has no effect since shuffle is False. This will raise an error in 0.24. You should leave random_state to its default (None), or set shuffle=True.\n",
      "  FutureWarning\n"
     ]
    },
    {
     "name": "stdout",
     "output_type": "stream",
     "text": [
      "LR Accuracy: Mean 0.706077 StD (0.006754) Time: 1.325109\n"
     ]
    },
    {
     "name": "stderr",
     "output_type": "stream",
     "text": [
      "C:\\Users\\feder\\AppData\\Local\\Continuum\\anaconda3\\lib\\site-packages\\sklearn\\model_selection\\_split.py:296: FutureWarning: Setting a random_state has no effect since shuffle is False. This will raise an error in 0.24. You should leave random_state to its default (None), or set shuffle=True.\n",
      "  FutureWarning\n"
     ]
    },
    {
     "name": "stdout",
     "output_type": "stream",
     "text": [
      "DT Accuracy: Mean 0.696425 StD (0.007630) Time: 1.173098\n"
     ]
    },
    {
     "name": "stderr",
     "output_type": "stream",
     "text": [
      "C:\\Users\\feder\\AppData\\Local\\Continuum\\anaconda3\\lib\\site-packages\\sklearn\\model_selection\\_split.py:296: FutureWarning: Setting a random_state has no effect since shuffle is False. This will raise an error in 0.24. You should leave random_state to its default (None), or set shuffle=True.\n",
      "  FutureWarning\n"
     ]
    },
    {
     "name": "stdout",
     "output_type": "stream",
     "text": [
      "RF Accuracy: Mean 0.749991 StD (0.006499) Time: 25.969826\n"
     ]
    },
    {
     "name": "stderr",
     "output_type": "stream",
     "text": [
      "C:\\Users\\feder\\AppData\\Local\\Continuum\\anaconda3\\lib\\site-packages\\sklearn\\model_selection\\_split.py:296: FutureWarning: Setting a random_state has no effect since shuffle is False. This will raise an error in 0.24. You should leave random_state to its default (None), or set shuffle=True.\n",
      "  FutureWarning\n"
     ]
    },
    {
     "name": "stdout",
     "output_type": "stream",
     "text": [
      "BC Accuracy: Mean 0.735721 StD (0.006291) Time: 7.465852\n",
      "{'bootstrap': True, 'ccp_alpha': 0.0, 'class_weight': None, 'criterion': 'gini', 'max_depth': None, 'max_features': 'auto', 'max_leaf_nodes': None, 'max_samples': None, 'min_impurity_decrease': 0.0, 'min_impurity_split': None, 'min_samples_leaf': 1, 'min_samples_split': 2, 'min_weight_fraction_leaf': 0.0, 'n_estimators': 100, 'n_jobs': None, 'oob_score': False, 'random_state': 123456789, 'verbose': 0, 'warm_start': False}\n",
      "{'max_depth': 10, 'n_estimators': 100}\n",
      "Accuracy: 0.7790735081228889\n",
      "F1 score: 0.7227213081659432\n",
      "Recall: 0.6950106775383421\n",
      "Precision: 0.7527333894028595\n",
      "\n",
      " clasification report:\n",
      "               precision    recall  f1-score   support\n",
      "\n",
      "       False       0.80      0.84      0.82      7283\n",
      "        True       0.75      0.70      0.72      5151\n",
      "\n",
      "    accuracy                           0.78     12434\n",
      "   macro avg       0.77      0.77      0.77     12434\n",
      "weighted avg       0.78      0.78      0.78     12434\n",
      "\n",
      "\n",
      " confussion matrix:\n",
      " [[6107 1176]\n",
      " [1571 3580]]\n",
      "Index(['avg_rating_by_driver', 'surge_pct', 'weekday_pct', 'IsKings',\n",
      "       'avg_surge', 'avg_dist', 'IsUBU', 'trips_in_first_30_days', 'IsAndroid',\n",
      "       'IsIphone'],\n",
      "      dtype='object')\n"
     ]
    }
   ],
   "source": [
    "## Cleaning\n",
    "\n",
    "## Load in data\n",
    "with open('ultimate_data_challenge.json') as path:\n",
    "    udc = json.load(path)       ## list of dicts\n",
    "\n",
    "## Convert udc into df\n",
    "udc_df = pd.DataFrame(udc)    \n",
    "\n",
    "## Drop any row with missing values\n",
    "udc_df = udc_df.dropna()\n",
    "\n",
    "## Convert strongs into datetime\n",
    "udc_df.last_trip_date = [datetime.strptime(i, '%Y-%m-%d') for i in udc_df.last_trip_date]\n",
    "udc_df.signup_date = [datetime.strptime(i, '%Y-%m-%d') for i in udc_df.signup_date]\n",
    "\n",
    "# calculate latest date (latest last trip date)\n",
    "latest_date = max(udc_df.last_trip_date)\n",
    "\n",
    "# Setup 30 day timedelta\n",
    "delta = pd.Timedelta('30 days')\n",
    "\n",
    "## Set up target feature\n",
    "## Create binary feauture where active = True, inactive = False\n",
    "udc_df['IsActive']= latest_date - udc_df.last_trip_date <= delta\n",
    "\n",
    "## EDA\n",
    "print('There are' ,udc_df.IsActive.sum()/len(udc_df),'% active users.')\n",
    "\n",
    "## Feature selection: will use all features with categoricals turned into dummy variables\n",
    "udc_df['IsAndroid'] = udc_df['phone'].map(lambda x: 1 if x=='Android' else 0)\n",
    "udc_df['IsIphone'] = udc_df['phone'].map(lambda x: 1 if x=='iPhone' else 0)\n",
    "udc_df['IsKings'] = udc_df['city'].map(lambda x: 1 if x==\"King's Landing\" else 0)\n",
    "udc_df['IsAstapor'] = udc_df['city'].map(lambda x: 1 if x=='Astapor' else 0)\n",
    "udc_df['IsWinter'] = udc_df['city'].map(lambda x: 1 if x=='Winterfell' else 0)\n",
    "udc_df['IsUBU']=udc_df['ultimate_black_user'].map(lambda x: 1 if x else 0)\n",
    "\n",
    "selected_df = udc_df[['avg_dist', 'avg_rating_by_driver', 'avg_rating_of_driver','avg_surge','surge_pct', 'trips_in_first_30_days', 'weekday_pct',     'IsAndroid', 'IsIphone', 'IsKings', 'IsAstapor', 'IsWinter', 'IsUBU','IsActive']]\n",
    "\n",
    "# Calculate correlations\n",
    "corr = selected_df.corr()\n",
    "\n",
    "# Visualise correlation matrix\n",
    "corr.style.background_gradient(cmap='coolwarm', axis = None).set_precision(2)\n",
    "\n",
    "\n",
    "# 3.2\n",
    "\n",
    "## Predictive model\n",
    "\n",
    "\n",
    "## Set up data and target and split into training and test sets\n",
    "X = selected_df.loc[:, selected_df.columns != 'IsActive']\n",
    "y = selected_df.iloc[:,13]\n",
    "\n",
    "X_train, X_test, y_train, y_test = train_test_split(X, y, test_size=0.30, random_state = 123456789)\n",
    "\n",
    "\n",
    "# First try a variety of methods and see which ones perform better\n",
    "# Create list of methods to try\n",
    "methods = [] # Generate empty list and then append name and function\n",
    "methods.append(('KNN', KNeighborsClassifier()))\n",
    "methods.append(('LR', LogisticRegression(solver='liblinear', multi_class='ovr')))\n",
    "methods.append(('DT', DecisionTreeClassifier()))\n",
    "methods.append(('RF', RandomForestClassifier(n_estimators = 100)))\n",
    "methods.append(('BC', BaggingClassifier()))\n",
    "\n",
    "# Function to build and test models from list of methods assigned\n",
    "def model_tester(methods):\n",
    "    results = []\n",
    "    names = []\n",
    "    for name, method in methods:\n",
    "        start = time.time()\n",
    "        end = time.time()\n",
    "        kf = KFold(n_splits=10, random_state=123456789)\n",
    "        cv_results = cross_val_score(method, X_train, y_train, cv= kf, scoring='accuracy')\n",
    "        end = time.time()\n",
    "        time_elapsed = end - start\n",
    "        results.append(cv_results)\n",
    "        \n",
    "        names.append(name)\n",
    "        print('%s Accuracy: Mean %f StD (%f) Time: %f' % (name, cv_results.mean(), cv_results.std(), time_elapsed))\n",
    "\n",
    "model_tester(methods)\n",
    "\n",
    "## Choose RF because higher accuracy, not slowest\n",
    "\n",
    "## Tune the RF hyperparameters\n",
    "## What hyperparameters are there?\n",
    "RF = RandomForestClassifier(n_estimators = 100,random_state=123456789) \n",
    "print(RF.get_params())\n",
    "\n",
    "# Will tune n_estimators and max_depth,\n",
    "\n",
    "# Total number of trees in the random forest\n",
    "n_estimators = [int(i) for i in np.linspace(100, 100, num=10 ) ]  # has to be integers\n",
    "\n",
    "# Maximum number of levels in each tree\n",
    "max_depth = [int(i) for i in np.linspace(10, 90, num = 9) ]\n",
    "max_depth = np.append(max_depth,None) ## 'None' means no arbitrary maximum\n",
    "\n",
    "\n",
    "\n",
    "\n",
    "## Create hyperparameter grid\n",
    "hyper_grid = {'n_estimators': n_estimators,\n",
    "               'max_depth': max_depth}\n",
    "\n",
    "## instantiate grid search\n",
    "grid_search = GridSearchCV(estimator = RF, param_grid = hyper_grid, \n",
    "                          cv = 5) # 5 fold\n",
    "\n",
    "# fit to data\n",
    "grid_search.fit(X_train, y_train)\n",
    "\n",
    "## See which hyper-parameters are best\n",
    "print(grid_search.best_params_)\n",
    "# grid_search.best_estimator_\n",
    "\n",
    "## Use best model on test set and let's see our results!\n",
    "\n",
    "rf = RandomForestClassifier(n_estimators = 100, max_depth=10 ,random_state=123456789) \n",
    "rf.fit(X_train, y_train)\n",
    "#print('Accuracy: {}'.format(rf.score(X_test , y_test)))\n",
    "\n",
    "rf_predict = rf.predict(X_test)\n",
    "\n",
    "\n",
    "\n",
    "\n",
    "print ( 'Accuracy:', accuracy_score(y_test, rf_predict))\n",
    "print ('F1 score:', f1_score(y_test, rf_predict))\n",
    "print ('Recall:', recall_score(y_test, rf_predict))\n",
    "print ('Precision:', precision_score(y_test,rf_predict))\n",
    "print ('\\n clasification report:\\n', classification_report(y_test, rf_predict))\n",
    "print ('\\n confussion matrix:\\n',confusion_matrix(y_test, rf_predict))\n",
    "\n",
    "\n",
    "## Feature Importance\n",
    "feature_importance = rf.feature_importances_\n",
    "# Sort features by importance, from the most important to least important \n",
    "features_sorted_index = feature_importance.argsort()[::-1]\n",
    "features_sorted = selected_df.columns[features_sorted_index[0:10]]\n",
    "print(features_sorted)\n"
   ]
  },
  {
   "cell_type": "markdown",
   "metadata": {},
   "source": [
    "In conclusion, Ultimate should focus on improving the rating of the riders and the surge multiplier."
   ]
  },
  {
   "cell_type": "code",
   "execution_count": null,
   "metadata": {},
   "outputs": [],
   "source": []
  }
 ],
 "metadata": {
  "kernelspec": {
   "display_name": "Python 3",
   "language": "python",
   "name": "python3"
  },
  "language_info": {
   "codemirror_mode": {
    "name": "ipython",
    "version": 3
   },
   "file_extension": ".py",
   "mimetype": "text/x-python",
   "name": "python",
   "nbconvert_exporter": "python",
   "pygments_lexer": "ipython3",
   "version": "3.7.3"
  }
 },
 "nbformat": 4,
 "nbformat_minor": 2
}
